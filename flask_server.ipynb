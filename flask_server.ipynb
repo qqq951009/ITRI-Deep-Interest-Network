{
 "cells": [
  {
   "cell_type": "code",
   "execution_count": 45,
   "metadata": {},
   "outputs": [
    {
     "name": "stdout",
     "output_type": "stream",
     "text": [
      " * Serving Flask app '__main__' (lazy loading)\n",
      " * Environment: production\n",
      "\u001b[31m   WARNING: This is a development server. Do not use it in a production deployment.\u001b[0m\n",
      "\u001b[2m   Use a production WSGI server instead.\u001b[0m\n",
      " * Debug mode: off\n"
     ]
    },
    {
     "name": "stderr",
     "output_type": "stream",
     "text": [
      " * Running on http://127.0.0.1:5000/ (Press CTRL+C to quit)\n"
     ]
    },
    {
     "name": "stdout",
     "output_type": "stream",
     "text": [
      "{'g_id': array([1046873,  798421,  990655,  226697,   23467, 1333060, 1030811,\n",
      "         94341, 1539411, 1534230,  757623, 1519174, 1839503,  898817,\n",
      "        223846, 1598160,  555647, 1846256,  232675, 1264920,  686272,\n",
      "        786385, 1028995, 1313552, 1076777, 1029365,  368416,  531902,\n",
      "       1326280,  436448]), 'hist_g_id': array([[1315304,       0,       0, ...,       0,       0,       0],\n",
      "       [1315304,       0,       0, ...,       0,       0,       0],\n",
      "       [1315304,       0,       0, ...,       0,       0,       0],\n",
      "       ...,\n",
      "       [1315304,       0,       0, ...,       0,       0,       0],\n",
      "       [1315304,       0,       0, ...,       0,       0,       0],\n",
      "       [1315304,       0,       0, ...,       0,       0,       0]]), 'seq_length': array([1, 1, 1, 1, 1, 1, 1, 1, 1, 1, 1, 1, 1, 1, 1, 1, 1, 1, 1, 1, 1, 1,\n",
      "       1, 1, 1, 1, 1, 1, 1, 1])}\n"
     ]
    },
    {
     "name": "stderr",
     "output_type": "stream",
     "text": [
      "127.0.0.1 - - [13/Sep/2021 13:17:14] \"POST / HTTP/1.1\" 200 -\n"
     ]
    }
   ],
   "source": [
    "from flask import Flask,request, jsonify\n",
    "import json\n",
    "import time\n",
    "import keras\n",
    "import numpy as np\n",
    "app = Flask(__name__)\n",
    "model = keras.models.load_model(\"/home/jovyan/dataset/rakuten_model_401_430\")\n",
    "@app.route(\"/\", methods=['GET', 'POST'])\n",
    "def hello():\n",
    "    if request.method == 'POST':\n",
    "        #candidate_list=[]\n",
    "        can_len = []\n",
    "        clickstream = []\n",
    "        sequence_len = []\n",
    "        data = json.loads(request.data)\n",
    "        hist_gid = data['hist_g_id']\n",
    "        candidate_request = data['candidate']\n",
    "        seq_length = data['seq_length']\n",
    "        can_len = len(candidate_request)\n",
    "    \n",
    "        clickstream+=[hist_gid]*can_len\n",
    "        sequence_len+=[seq_length]*can_len\n",
    "            \n",
    "        candidate_request = np.array(candidate_request)\n",
    "        clickstream = np.array(clickstream)\n",
    "        sequence_len = np.array(sequence_len)\n",
    "        \n",
    "        x_pred = {'g_id': candidate_request, \n",
    "                'hist_g_id': clickstream, \n",
    "                'seq_length': sequence_len}\n",
    "        print(x_pred)\n",
    "        y_pred = model.predict(x_pred)\n",
    "        y_pred_score = y_pred.reshape(-1)\n",
    "        y_pred_score = y_pred_score.tolist()\n",
    "        \n",
    "        \n",
    "        rerank_list = []\n",
    "        tempdict = {}\n",
    "        for i in zip(candidate_request,y_pred_score):\n",
    "            tempdict[i[0]] = i[1]\n",
    "        tempdict = {k: v for k, v in sorted(tempdict.items(), key=lambda item: item[1], reverse=True)}\n",
    "        rerank_list.append(list(tempdict.keys()))\n",
    "        respond = {'rerank':rerank_list}\n",
    "        \n",
    "        def convert(o):\n",
    "            if isinstance(o, np.generic): return o.item()  \n",
    "            raise TypeError\n",
    "        return json.dumps(respond, default=convert)\n",
    "        \n",
    "if __name__ == \"__main__\":\n",
    "    app.run()"
   ]
  }
 ],
 "metadata": {
  "kernelspec": {
   "display_name": "Python 3",
   "language": "python",
   "name": "python3"
  },
  "language_info": {
   "codemirror_mode": {
    "name": "ipython",
    "version": 3
   },
   "file_extension": ".py",
   "mimetype": "text/x-python",
   "name": "python",
   "nbconvert_exporter": "python",
   "pygments_lexer": "ipython3",
   "version": "3.7.3"
  }
 },
 "nbformat": 4,
 "nbformat_minor": 2
}
