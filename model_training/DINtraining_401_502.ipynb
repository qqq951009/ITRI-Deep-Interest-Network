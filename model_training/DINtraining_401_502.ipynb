{
 "cells": [
  {
   "cell_type": "code",
   "execution_count": 1,
   "metadata": {},
   "outputs": [],
   "source": [
    "import pandas as pd\n",
    "import pandas_gbq\n",
    "from google.cloud import bigquery\n",
    "import pandas as pd\n",
    "from sklearn.metrics import mean_squared_error\n",
    "from sklearn.model_selection import train_test_split\n",
    "from sklearn.preprocessing import LabelEncoder\n",
    "from sklearn.metrics import roc_auc_score\n",
    "from deepctr.models import DeepFM,DIN\n",
    "from deepctr.feature_column import SparseFeat, VarLenSparseFeat, DenseFeat, get_feature_names\n",
    "import numpy as np\n",
    "import tensorflow as tf\n",
    "import random"
   ]
  },
  {
   "cell_type": "code",
   "execution_count": 2,
   "metadata": {},
   "outputs": [],
   "source": [
    "import pickle\n",
    "def save_variable(v,filename):\n",
    "    f=open(filename,'wb')\n",
    "    pickle.dump(v,f)\n",
    "    f.close()\n",
    "    return filename\n",
    "def load_variable(filename):\n",
    "    f=open(filename,'rb')\n",
    "    r=pickle.load(f)\n",
    "    f.close()\n",
    "    return r\n"
   ]
  },
  {
   "cell_type": "markdown",
   "metadata": {},
   "source": [
    "### start training(use 4/1-5/1 model train5/2 data)"
   ]
  },
  {
   "cell_type": "code",
   "execution_count": 32,
   "metadata": {},
   "outputs": [],
   "source": [
    "df_uid_5 = load_variable('/home/jovyan/dataset/may_df_uid')\n",
    "df_ven_guid_5 = load_variable('/home/jovyan/dataset/may_df_ven_guid')\n",
    "df_uid52 = df_uid_5[df_uid_5.month==52]\n",
    "df_ven_guid52 = df_ven_guid_5[df_ven_guid_5.month==52]"
   ]
  },
  {
   "cell_type": "code",
   "execution_count": 41,
   "metadata": {},
   "outputs": [
    {
     "data": {
      "text/plain": [
       "82333"
      ]
     },
     "execution_count": 41,
     "metadata": {},
     "output_type": "execute_result"
    }
   ],
   "source": [
    "len(df_uid52)"
   ]
  },
  {
   "cell_type": "code",
   "execution_count": 33,
   "metadata": {},
   "outputs": [],
   "source": [
    "df_temp = pd.concat([df_uid52[['month','gid_encode']],df_ven_guid52[['month','gid_encode']]],ignore_index=True)\n",
    "under = 0\n",
    "freq_list = []\n",
    "freq = df_temp.gid_encode.value_counts()\n",
    "for i in freq.values:\n",
    "    under += np.log10(i+1)\n",
    "for i in freq.values:\n",
    "    freq_list.append(np.log10(i+1)/under)"
   ]
  },
  {
   "cell_type": "code",
   "execution_count": 34,
   "metadata": {
    "collapsed": true
   },
   "outputs": [
    {
     "name": "stdout",
     "output_type": "stream",
     "text": [
      "144304\n",
      "179401\n",
      "574791\n"
     ]
    },
    {
     "data": {
      "text/plain": [
       "(214282, 131154)"
      ]
     },
     "execution_count": 34,
     "metadata": {},
     "output_type": "execute_result"
    }
   ],
   "source": [
    "import random\n",
    "def create_set_byuid(df):\n",
    "    t_set = []\n",
    "    neg_list = random.choices(freq.index,weights = freq_list, k=1000000)\n",
    "    for userid, hist in df.groupby('uid'):\n",
    "        pos_list = hist['gid_encode'].tolist()\n",
    "        if len(pos_list) > 101:\n",
    "            pos_list = pos_list[-101:]\n",
    "            print(userid)\n",
    "        def gen_neg():\n",
    "            count = 0\n",
    "            neg = pos_list[0]\n",
    "            while neg in pos_list:\n",
    "                if count == 100:\n",
    "                    count = 0\n",
    "                neg = random.choices(neg_list, k=1)[0]\n",
    "                count += 1\n",
    "            return neg\n",
    "        neg_list2 = [gen_neg() for i in range(len(pos_list))]\n",
    "        for i in range(1, len(pos_list)):\n",
    "            hist = pos_list[:i] \n",
    "            t_set.append((userid, hist, pos_list[i], 1))\n",
    "            t_set.append((userid, hist, neg_list2[i], 0))\n",
    "    return t_set\n",
    "def create_set_byvenguid(df):\n",
    "    t_set = []\n",
    "    neg_list = random.choices(freq.index,weights = freq_list, k=1000000)\n",
    "    for userid, hist in df.groupby('ven_guid'):\n",
    "        pos_list = hist['gid_encode'].tolist()\n",
    "        if len(pos_list) > 101:\n",
    "            pos_list = pos_list[-101:]\n",
    "            print(userid)\n",
    "        def gen_neg():\n",
    "            count = 0\n",
    "            neg = pos_list[0]\n",
    "            while neg in pos_list:\n",
    "                if count == 100:\n",
    "                    count = 0\n",
    "                neg = random.choices(neg_list, k=1)[0]\n",
    "                count += 1\n",
    "            return neg\n",
    "        neg_list2 = [gen_neg() for i in range(len(pos_list))]\n",
    "        for i in range(1, len(pos_list)):\n",
    "            hist = pos_list[:i] \n",
    "            t_set.append((userid, hist, pos_list[i], 1))\n",
    "            t_set.append((userid, hist, neg_list2[i], 0))\n",
    "    return t_set\n",
    "\n",
    "df_train_uid = create_set_byuid(df_uid52)\n",
    "df_train_venguid = create_set_byvenguid(df_ven_guid52)\n",
    "train_set502 = df_train_venguid + df_train_uid\n",
    "np.random.shuffle(train_set502)\n",
    "len(df_train_venguid),len(df_train_uid)"
   ]
  },
  {
   "cell_type": "code",
   "execution_count": 36,
   "metadata": {},
   "outputs": [],
   "source": [
    "def create_array(data):\n",
    "    g_id = []\n",
    "    hist_g_id = []\n",
    "    click = []\n",
    "    seq_length = []\n",
    "\n",
    "    for index, value in enumerate(data):\n",
    "        hist_g_id.append(value[1])\n",
    "        seq_length.append(len(value[1]))\n",
    "        g_id.append(value[2])\n",
    "        click.append(value[3])  \n",
    "    for i in range(len(hist_g_id)):\n",
    "        if len(hist_g_id[i]) != 100:\n",
    "            hist_g_id[i] += (100-len(hist_g_id[i]))*[0]\n",
    "\n",
    "    g_id = np.array(g_id)\n",
    "    hist_g_id = np.array(hist_g_id)\n",
    "    click = np.array(click)\n",
    "    seq_length = np.array(seq_length)\n",
    "    return g_id, hist_g_id, click, seq_length\n",
    "g_id_train502, hist_g_id_train502, click_train502, seq_length_train502 = create_array(train_set502)"
   ]
  },
  {
   "cell_type": "code",
   "execution_count": 37,
   "metadata": {},
   "outputs": [],
   "source": [
    "behavior_feature_list = [\"g_id\"]\n",
    "feature_columns = [SparseFeat('g_id', 1870599, embedding_dim=8)]\n",
    "feature_columns += [VarLenSparseFeat(SparseFeat('hist_g_id',vocabulary_size=1870599, embedding_dim=8, embedding_name='g_id'), maxlen = 100, length_name='seq_length')]\n",
    "\n",
    "x = {'g_id': g_id_train502, \n",
    "    'hist_g_id': hist_g_id_train502, \n",
    "    'seq_length': seq_length_train502}\n",
    "y = click_train502"
   ]
  },
  {
   "cell_type": "code",
   "execution_count": 69,
   "metadata": {},
   "outputs": [
    {
     "name": "stdout",
     "output_type": "stream",
     "text": [
      "Epoch 1/10\n",
      "2699/2699 [==============================] - 690s 254ms/step - loss: 0.5652 - accuracy: 0.7065 - auc: 0.7786\n",
      "\n",
      "Epoch 00001: saving model to /home/jovyan/dataset/checkpoint_folder/rakuten_0401_0502.ckpt\n",
      "Epoch 2/10\n",
      "2699/2699 [==============================] - 681s 252ms/step - loss: 0.4714 - accuracy: 0.7754 - auc: 0.8542\n",
      "\n",
      "Epoch 00002: saving model to /home/jovyan/dataset/checkpoint_folder/rakuten_0401_0502.ckpt\n",
      "Epoch 3/10\n",
      "2699/2699 [==============================] - 690s 256ms/step - loss: 0.3885 - accuracy: 0.8283 - auc: 0.9039\n",
      "\n",
      "Epoch 00003: saving model to /home/jovyan/dataset/checkpoint_folder/rakuten_0401_0502.ckpt\n",
      "Epoch 4/10\n",
      "2699/2699 [==============================] - 696s 258ms/step - loss: 0.3190 - accuracy: 0.8681 - auc: 0.9360\n",
      "\n",
      "Epoch 00004: saving model to /home/jovyan/dataset/checkpoint_folder/rakuten_0401_0502.ckpt\n",
      "Epoch 5/10\n",
      "2699/2699 [==============================] - 695s 257ms/step - loss: 0.2684 - accuracy: 0.8942 - auc: 0.9549\n",
      "\n",
      "Epoch 00005: saving model to /home/jovyan/dataset/checkpoint_folder/rakuten_0401_0502.ckpt\n",
      "Epoch 6/10\n",
      "2699/2699 [==============================] - 674s 250ms/step - loss: 0.2328 - accuracy: 0.9126 - auc: 0.9661\n",
      "\n",
      "Epoch 00006: saving model to /home/jovyan/dataset/checkpoint_folder/rakuten_0401_0502.ckpt\n",
      "Epoch 7/10\n",
      "2699/2699 [==============================] - 672s 249ms/step - loss: 0.2026 - accuracy: 0.9264 - auc: 0.9742\n",
      "\n",
      "Epoch 00007: saving model to /home/jovyan/dataset/checkpoint_folder/rakuten_0401_0502.ckpt\n",
      "Epoch 8/10\n",
      "2699/2699 [==============================] - 672s 249ms/step - loss: 0.1768 - accuracy: 0.9387 - auc: 0.9802\n",
      "\n",
      "Epoch 00008: saving model to /home/jovyan/dataset/checkpoint_folder/rakuten_0401_0502.ckpt\n",
      "Epoch 9/10\n",
      "2699/2699 [==============================] - 670s 248ms/step - loss: 0.1606 - accuracy: 0.9459 - auc: 0.9833\n",
      "\n",
      "Epoch 00009: saving model to /home/jovyan/dataset/checkpoint_folder/rakuten_0401_0502.ckpt\n",
      "Epoch 10/10\n",
      "2699/2699 [==============================] - 674s 250ms/step - loss: 0.1442 - accuracy: 0.9532 - auc: 0.9862\n",
      "\n",
      "Epoch 00010: saving model to /home/jovyan/dataset/checkpoint_folder/rakuten_0401_0502.ckpt\n"
     ]
    }
   ],
   "source": [
    "model = DIN(feature_columns, behavior_feature_list)\n",
    "model.compile('SGD', 'binary_crossentropy',metrics=['accuracy','AUC'])\n",
    "latest = tf.train.latest_checkpoint(\"/home/jovyan/dataset/checkpoint_folder/model_401_501\")\n",
    "model.load_weights(latest)\n",
    "\n",
    "checkpoint_path = \"/home/jovyan/dataset/checkpoint_folder/model_401_502/rakuten_0401_0502.ckpt\"\n",
    "cp_callback = tf.keras.callbacks.ModelCheckpoint(filepath=checkpoint_path, save_weights_only=True,verbose=1)\n",
    "history401_502 = model.fit(x, y, batch_size=128, verbose=1, epochs=10, callbacks=[cp_callback])"
   ]
  },
  {
   "cell_type": "markdown",
   "metadata": {},
   "source": [
    "### 15個epoch"
   ]
  },
  {
   "cell_type": "code",
   "execution_count": 40,
   "metadata": {},
   "outputs": [
    {
     "name": "stdout",
     "output_type": "stream",
     "text": [
      "Epoch 1/5\n",
      "2699/2699 [==============================] - 693s 255ms/step - loss: 0.3597 - accuracy: 0.8539 - auc: 0.9201\n",
      "\n",
      "Epoch 00001: saving model to /home/jovyan/dataset/15epoch/model401_502/401_502.ckpt\n",
      "Epoch 2/5\n",
      "2699/2699 [==============================] - 700s 259ms/step - loss: 0.2562 - accuracy: 0.9042 - auc: 0.9593\n",
      "\n",
      "Epoch 00002: saving model to /home/jovyan/dataset/15epoch/model401_502/401_502.ckpt\n",
      "Epoch 3/5\n",
      "2699/2699 [==============================] - 711s 263ms/step - loss: 0.2012 - accuracy: 0.9293 - auc: 0.9745\n",
      "\n",
      "Epoch 00003: saving model to /home/jovyan/dataset/15epoch/model401_502/401_502.ckpt\n",
      "Epoch 4/5\n",
      "2699/2699 [==============================] - 694s 257ms/step - loss: 0.1665 - accuracy: 0.9441 - auc: 0.9822\n",
      "\n",
      "Epoch 00004: saving model to /home/jovyan/dataset/15epoch/model401_502/401_502.ckpt\n",
      "Epoch 5/5\n",
      "2699/2699 [==============================] - 721s 267ms/step - loss: 0.1401 - accuracy: 0.9555 - auc: 0.9870\n",
      "\n",
      "Epoch 00005: saving model to /home/jovyan/dataset/15epoch/model401_502/401_502.ckpt\n"
     ]
    }
   ],
   "source": [
    "model = DIN(feature_columns, behavior_feature_list)\n",
    "model.compile('SGD', 'binary_crossentropy',metrics=['accuracy','AUC'])\n",
    "latest = tf.train.latest_checkpoint(\"/home/jovyan/dataset/checkpoint_folder/model_401_502\")\n",
    "model.load_weights(latest)\n",
    "\n",
    "checkpoint_path =  \"/home/jovyan/dataset/15epoch/model401_502/401_502.ckpt\"\n",
    "cp_callback = tf.keras.callbacks.ModelCheckpoint(filepath=checkpoint_path, save_weights_only=True,verbose=1)\n",
    "history15epoch = model.fit(x, y, batch_size=128, verbose=1, epochs=5, callbacks=[cp_callback])"
   ]
  },
  {
   "cell_type": "markdown",
   "metadata": {},
   "source": [
    "### 20 epoch"
   ]
  },
  {
   "cell_type": "code",
   "execution_count": 43,
   "metadata": {},
   "outputs": [
    {
     "name": "stdout",
     "output_type": "stream",
     "text": [
      "Epoch 1/5\n",
      "2699/2699 [==============================] - 729s 269ms/step - loss: 0.1257 - accuracy: 0.9614 - auc: 0.9892\n",
      "\n",
      "Epoch 00001: saving model to /home/jovyan/dataset/20epoch/model401_502/401_502.ckpt\n",
      "Epoch 2/5\n",
      "2699/2699 [==============================] - 735s 272ms/step - loss: 0.1135 - accuracy: 0.9661 - auc: 0.9908\n",
      "\n",
      "Epoch 00002: saving model to /home/jovyan/dataset/20epoch/model401_502/401_502.ckpt\n",
      "Epoch 3/5\n",
      "2699/2699 [==============================] - 738s 274ms/step - loss: 0.1060 - accuracy: 0.9691 - auc: 0.9916\n",
      "\n",
      "Epoch 00003: saving model to /home/jovyan/dataset/20epoch/model401_502/401_502.ckpt\n",
      "Epoch 4/5\n",
      "2699/2699 [==============================] - 739s 274ms/step - loss: 0.0954 - accuracy: 0.9733 - auc: 0.9930\n",
      "\n",
      "Epoch 00004: saving model to /home/jovyan/dataset/20epoch/model401_502/401_502.ckpt\n",
      "Epoch 5/5\n",
      "2699/2699 [==============================] - 727s 269ms/step - loss: 0.0903 - accuracy: 0.9753 - auc: 0.9934\n",
      "\n",
      "Epoch 00005: saving model to /home/jovyan/dataset/20epoch/model401_502/401_502.ckpt\n"
     ]
    }
   ],
   "source": [
    "model = DIN(feature_columns, behavior_feature_list)\n",
    "model.compile('SGD', 'binary_crossentropy',metrics=['accuracy','AUC'])\n",
    "latest = tf.train.latest_checkpoint(\"/home/jovyan/dataset/15epoch/model401_502\")\n",
    "model.load_weights(latest)\n",
    "\n",
    "checkpoint_path = \"/home/jovyan/dataset/20epoch/model401_502/401_502.ckpt\"\n",
    "cp_callback = tf.keras.callbacks.ModelCheckpoint(filepath=checkpoint_path, save_weights_only=True,verbose=1)\n",
    "histtory5epoch = model.fit(x, y, batch_size=128, verbose=1, epochs=5, callbacks=[cp_callback])"
   ]
  }
 ],
 "metadata": {
  "kernelspec": {
   "display_name": "Python 3",
   "language": "python",
   "name": "python3"
  },
  "language_info": {
   "codemirror_mode": {
    "name": "ipython",
    "version": 3
   },
   "file_extension": ".py",
   "mimetype": "text/x-python",
   "name": "python",
   "nbconvert_exporter": "python",
   "pygments_lexer": "ipython3",
   "version": "3.7.3"
  }
 },
 "nbformat": 4,
 "nbformat_minor": 2
}
