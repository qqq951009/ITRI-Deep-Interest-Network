{
 "cells": [
  {
   "cell_type": "code",
   "execution_count": 1,
   "metadata": {},
   "outputs": [
    {
     "name": "stderr",
     "output_type": "stream",
     "text": [
      "WARNING:root:\n",
      "DeepCTR version 0.9.0 detected. Your version is 0.8.7.\n",
      "Use `pip install -U deepctr` to upgrade.Changelog: https://github.com/shenweichen/DeepCTR/releases/tag/v0.9.0\n"
     ]
    }
   ],
   "source": [
    "import pandas as pd\n",
    "from sklearn.metrics import mean_squared_error\n",
    "from sklearn.model_selection import train_test_split\n",
    "from sklearn.preprocessing import LabelEncoder\n",
    "from sklearn.metrics import roc_auc_score\n",
    "from deepctr.models import DeepFM,DIN\n",
    "from deepctr.feature_column import SparseFeat, VarLenSparseFeat, DenseFeat, get_feature_names\n",
    "import numpy as np\n",
    "import tensorflow as tf\n",
    "import random"
   ]
  },
  {
   "cell_type": "code",
   "execution_count": 2,
   "metadata": {},
   "outputs": [],
   "source": [
    "import pickle\n",
    "def save_variable(v,filename):\n",
    "    f=open(filename,'wb')\n",
    "    pickle.dump(v,f)\n",
    "    f.close()\n",
    "    return filename\n",
    "def load_variable(filename):\n",
    "    f=open(filename,'rb')\n",
    "    r=pickle.load(f)\n",
    "    f.close()\n",
    "    return r"
   ]
  },
  {
   "cell_type": "markdown",
   "metadata": {},
   "source": [
    "### start training(use 4/1-4/30 model train5/1 data)¶"
   ]
  },
  {
   "cell_type": "code",
   "execution_count": 24,
   "metadata": {},
   "outputs": [],
   "source": [
    "df_uid_5 = load_variable('/home/jovyan/dataset/may_df_uid')\n",
    "df_ven_guid_5 = load_variable('/home/jovyan/dataset/may_df_ven_guid')\n",
    "df_uid51 = df_uid_5[df_uid_5.month==51]\n",
    "df_ven_guid51 = df_ven_guid_5[df_ven_guid_5.month==51]"
   ]
  },
  {
   "cell_type": "code",
   "execution_count": 30,
   "metadata": {},
   "outputs": [],
   "source": [
    "df_temp = pd.concat([df_uid51[['month','gid_encode']],df_ven_guid51[['month','gid_encode']]],ignore_index=True)\n",
    "under = 0\n",
    "freq_list = []\n",
    "freq = df_temp.gid_encode.value_counts()\n",
    "for i in freq.values:\n",
    "    under += np.log10(i+1)\n",
    "for i in freq.values:\n",
    "    freq_list.append(np.log10(i+1)/under)"
   ]
  },
  {
   "cell_type": "code",
   "execution_count": 31,
   "metadata": {},
   "outputs": [],
   "source": [
    "import random\n",
    "def create_set_byuid(df):\n",
    "    t_set = []\n",
    "    neg_list = random.choices(freq.index,weights = freq_list, k=1000000)\n",
    "    for userid, hist in df.groupby('uid'):\n",
    "        pos_list = hist['gid_encode'].tolist()\n",
    "        if len(pos_list) > 101:\n",
    "            pos_list = pos_list[-101:]\n",
    "        def gen_neg():\n",
    "            count = 0\n",
    "            neg = pos_list[0]\n",
    "            while neg in pos_list:\n",
    "                if count == 100:\n",
    "                    count = 0\n",
    "                neg = random.choices(neg_list, k=1)[0]\n",
    "                count += 1\n",
    "            return neg\n",
    "        neg_list2 = [gen_neg() for i in range(len(pos_list))]\n",
    "        for i in range(1, len(pos_list)):\n",
    "            hist = pos_list[:i] \n",
    "            t_set.append((userid, hist, pos_list[i], 1))\n",
    "            t_set.append((userid, hist, neg_list2[i], 0))\n",
    "    return t_set"
   ]
  },
  {
   "cell_type": "code",
   "execution_count": 32,
   "metadata": {},
   "outputs": [],
   "source": [
    "def create_set_byvenguid(df):\n",
    "    t_set = []\n",
    "    neg_list = random.choices(freq.index,weights = freq_list, k=1000000)\n",
    "    for userid, hist in df.groupby('ven_guid'):\n",
    "        pos_list = hist['gid_encode'].tolist()\n",
    "        if len(pos_list) > 101:\n",
    "            pos_list = pos_list[-101:]\n",
    "        def gen_neg():\n",
    "            count = 0\n",
    "            neg = pos_list[0]\n",
    "            while neg in pos_list:\n",
    "                if count == 100:\n",
    "                    count = 0\n",
    "                neg = random.choices(neg_list, k=1)[0]\n",
    "                count += 1\n",
    "            return neg\n",
    "        neg_list2 = [gen_neg() for i in range(len(pos_list))]\n",
    "        for i in range(1, len(pos_list)):\n",
    "            hist = pos_list[:i] \n",
    "            t_set.append((userid, hist, pos_list[i], 1))\n",
    "            t_set.append((userid, hist, neg_list2[i], 0))\n",
    "    return t_set"
   ]
  },
  {
   "cell_type": "code",
   "execution_count": 33,
   "metadata": {
    "collapsed": true
   },
   "outputs": [
    {
     "name": "stdout",
     "output_type": "stream",
     "text": [
      "44061\n",
      "45136\n",
      "50699\n",
      "62218\n",
      "85917\n",
      "93517\n",
      "93554\n",
      "103320\n",
      "127064\n",
      "394959\n",
      "563315\n",
      "574791\n"
     ]
    },
    {
     "data": {
      "text/plain": [
       "(200966, 128230)"
      ]
     },
     "execution_count": 33,
     "metadata": {},
     "output_type": "execute_result"
    }
   ],
   "source": [
    "df_train_uid = create_set_byuid(df_uid51)\n",
    "df_train_venguid = create_set_byvenguid(df_ven_guid51)\n",
    "train_set501 = df_train_venguid + df_train_uid\n",
    "np.random.shuffle(train_set501)\n",
    "len(df_train_venguid),len(df_train_uid)"
   ]
  },
  {
   "cell_type": "code",
   "execution_count": 34,
   "metadata": {},
   "outputs": [],
   "source": [
    "def create_array(data):\n",
    "    g_id = []\n",
    "    hist_g_id = []\n",
    "    click = []\n",
    "    seq_length = []\n",
    "\n",
    "    for index, value in enumerate(data):\n",
    "        hist_g_id.append(value[1])\n",
    "        seq_length.append(len(value[1]))\n",
    "        g_id.append(value[2])\n",
    "        click.append(value[3])  \n",
    "    for i in range(len(hist_g_id)):\n",
    "        if len(hist_g_id[i]) != 100:\n",
    "            hist_g_id[i] += (100-len(hist_g_id[i]))*[0]\n",
    "\n",
    "    g_id = np.array(g_id)\n",
    "    hist_g_id = np.array(hist_g_id)\n",
    "    click = np.array(click)\n",
    "    seq_length = np.array(seq_length)\n",
    "    return g_id, hist_g_id, click, seq_length\n",
    "g_id_train501, hist_g_id_train501, click_train501, seq_length_train501 = create_array(train_set501)"
   ]
  },
  {
   "cell_type": "code",
   "execution_count": 39,
   "metadata": {},
   "outputs": [],
   "source": [
    "behavior_feature_list = [\"g_id\"]\n",
    "feature_columns = [SparseFeat('g_id', 1870599, embedding_dim=8)]\n",
    "feature_columns += [VarLenSparseFeat(SparseFeat('hist_g_id',vocabulary_size=1870599, embedding_dim=8, embedding_name='g_id'), maxlen = 100, length_name='seq_le\n",
    "x = {'g_id': g_id_train501, \n",
    "    'hist_g_id': hist_g_id_train501, \n",
    "    'seq_length': seq_length_train501}\n",
    "y = click_train501"
   ]
  },
  {
   "cell_type": "code",
   "execution_count": 22,
   "metadata": {},
   "outputs": [
    {
     "name": "stdout",
     "output_type": "stream",
     "text": [
      "Epoch 1/10\n",
      "2572/2572 [==============================] - 681s 255ms/step - loss: 0.5680 - accuracy: 0.7013 - auc: 0.7745\n",
      "\n",
      "Epoch 00001: saving model to /home/jovyan/dataset/rakuten_0811_cp1.ckpt\n",
      "Epoch 2/10\n",
      "2572/2572 [==============================] - 657s 255ms/step - loss: 0.4785 - accuracy: 0.7719 - auc: 0.8502\n",
      "\n",
      "Epoch 00002: saving model to /home/jovyan/dataset/rakuten_0811_cp1.ckpt\n",
      "Epoch 3/10\n",
      "2572/2572 [==============================] - 662s 257ms/step - loss: 0.3968 - accuracy: 0.8250 - auc: 0.9005\n",
      "\n",
      "Epoch 00003: saving model to /home/jovyan/dataset/rakuten_0811_cp1.ckpt\n",
      "Epoch 4/10\n",
      "2572/2572 [==============================] - 663s 258ms/step - loss: 0.3282 - accuracy: 0.8638 - auc: 0.9332\n",
      "\n",
      "Epoch 00004: saving model to /home/jovyan/dataset/rakuten_0811_cp1.ckpt\n",
      "Epoch 5/10\n",
      "2572/2572 [==============================] - 665s 259ms/step - loss: 0.2742 - accuracy: 0.8921 - auc: 0.9538\n",
      "\n",
      "Epoch 00005: saving model to /home/jovyan/dataset/rakuten_0811_cp1.ckpt\n",
      "Epoch 6/10\n",
      "2572/2572 [==============================] - 662s 257ms/step - loss: 0.2340 - accuracy: 0.9120 - auc: 0.9664\n",
      "\n",
      "Epoch 00006: saving model to /home/jovyan/dataset/rakuten_0811_cp1.ckpt\n",
      "Epoch 7/10\n",
      "2572/2572 [==============================] - 663s 258ms/step - loss: 0.2022 - accuracy: 0.9269 - auc: 0.9747\n",
      "\n",
      "Epoch 00007: saving model to /home/jovyan/dataset/rakuten_0811_cp1.ckpt\n",
      "Epoch 8/10\n",
      "2572/2572 [==============================] - 662s 257ms/step - loss: 0.1770 - accuracy: 0.9380 - auc: 0.9803\n",
      "\n",
      "Epoch 00008: saving model to /home/jovyan/dataset/rakuten_0811_cp1.ckpt\n",
      "Epoch 9/10\n",
      "2572/2572 [==============================] - 663s 258ms/step - loss: 0.1585 - accuracy: 0.9468 - auc: 0.9838\n",
      "\n",
      "Epoch 00009: saving model to /home/jovyan/dataset/rakuten_0811_cp1.ckpt\n",
      "Epoch 10/10\n",
      "2572/2572 [==============================] - 662s 257ms/step - loss: 0.1426 - accuracy: 0.9538 - auc: 0.9866\n",
      "\n",
      "Epoch 00010: saving model to /home/jovyan/dataset/rakuten_0811_cp1.ckpt\n"
     ]
    }
   ],
   "source": [
    "import keras\n",
    "model = keras.models.load_model(\"/home/jovyan/dataset/rakuten_model_401_430\")\n",
    "checkpoint_path = \"/home/jovyan/dataset/checkpoint_folder/model_401_501/rakuten_0401_0501.ckpt\"\n",
    "cp_callback = tf.keras.callbacks.ModelCheckpoint(filepath=checkpoint_path, save_weights_only=True,verbose=1)\n",
    "history401_501 = model.fit(x, y, batch_size=128, verbose=1, epochs=10, callbacks=[cp_callback])"
   ]
  },
  {
   "cell_type": "markdown",
   "metadata": {},
   "source": [
    "### 15個epoch"
   ]
  },
  {
   "cell_type": "code",
   "execution_count": 44,
   "metadata": {},
   "outputs": [],
   "source": [
    "behavior_feature_list = [\"g_id\"]\n",
    "feature_columns = [SparseFeat('g_id', 1870599, embedding_dim=8)]\n",
    "feature_columns += [VarLenSparseFeat(SparseFeat('hist_g_id',vocabulary_size=1870599, embedding_dim=8, embedding_name='g_id'), maxlen = 100, length_name='seq_length')]\n",
    "x = {'g_id': g_id_train501, \n",
    "    'hist_g_id': hist_g_id_train501, \n",
    "    'seq_length': seq_length_train501}\n",
    "y = click_train501"
   ]
  },
  {
   "cell_type": "code",
   "execution_count": 45,
   "metadata": {},
   "outputs": [
    {
     "name": "stdout",
     "output_type": "stream",
     "text": [
      "Epoch 1/5\n",
      "2572/2572 [==============================] - 654s 253ms/step - loss: 0.3577 - accuracy: 0.8547 - auc: 0.9198\n",
      "\n",
      "Epoch 00001: saving model to /home/jovyan/dataset/15epoch/401_501.ckpt\n",
      "Epoch 2/5\n",
      "2572/2572 [==============================] - 647s 252ms/step - loss: 0.2588 - accuracy: 0.9029 - auc: 0.9582\n",
      "\n",
      "Epoch 00002: saving model to /home/jovyan/dataset/15epoch/401_501.ckpt\n",
      "Epoch 3/5\n",
      "2572/2572 [==============================] - 667s 259ms/step - loss: 0.2057 - accuracy: 0.9274 - auc: 0.9733\n",
      "\n",
      "Epoch 00003: saving model to /home/jovyan/dataset/15epoch/401_501.ckpt\n",
      "Epoch 4/5\n",
      "2572/2572 [==============================] - 676s 263ms/step - loss: 0.1727 - accuracy: 0.9416 - auc: 0.9809\n",
      "\n",
      "Epoch 00004: saving model to /home/jovyan/dataset/15epoch/401_501.ckpt\n",
      "Epoch 5/5\n",
      "2572/2572 [==============================] - 689s 268ms/step - loss: 0.1464 - accuracy: 0.9527 - auc: 0.9859\n",
      "\n",
      "Epoch 00005: saving model to /home/jovyan/dataset/15epoch/401_501.ckpt\n"
     ]
    }
   ],
   "source": [
    "model = DIN(feature_columns, behavior_feature_list)\n",
    "model.compile('SGD', 'binary_crossentropy',metrics=['accuracy','AUC'])\n",
    "latest = tf.train.latest_checkpoint(\"/home/jovyan/dataset/checkpoint_folder/model_401_501\")\n",
    "model.load_weights(latest)\n",
    "\n",
    "checkpoint_path = \"/home/jovyan/dataset/15epoch/401_501.ckpt\"\n",
    "cp_callback = tf.keras.callbacks.ModelCheckpoint(filepath=checkpoint_path, save_weights_only=True,verbose=1)\n",
    "histtory5epoch = model.fit(x, y, batch_size=128, verbose=1, epochs=5, callbacks=[cp_callback])"
   ]
  },
  {
   "cell_type": "markdown",
   "metadata": {},
   "source": [
    "### 20 epoch"
   ]
  },
  {
   "cell_type": "code",
   "execution_count": 48,
   "metadata": {},
   "outputs": [
    {
     "name": "stdout",
     "output_type": "stream",
     "text": [
      "Epoch 1/5\n",
      "2572/2572 [==============================] - 702s 272ms/step - loss: 0.1257 - accuracy: 0.9609 - auc: 0.9892\n",
      "\n",
      "Epoch 00001: saving model to /home/jovyan/dataset/20epoch/model401_501/401_501.ckpt\n",
      "Epoch 2/5\n",
      "2572/2572 [==============================] - 707s 275ms/step - loss: 0.1144 - accuracy: 0.9655 - auc: 0.9907\n",
      "\n",
      "Epoch 00002: saving model to /home/jovyan/dataset/20epoch/model401_501/401_501.ckpt\n",
      "Epoch 3/5\n",
      "2572/2572 [==============================] - 710s 276ms/step - loss: 0.1043 - accuracy: 0.9695 - auc: 0.9920\n",
      "\n",
      "Epoch 00003: saving model to /home/jovyan/dataset/20epoch/model401_501/401_501.ckpt\n",
      "Epoch 4/5\n",
      "2572/2572 [==============================] - 709s 275ms/step - loss: 0.0974 - accuracy: 0.9723 - auc: 0.9927\n",
      "\n",
      "Epoch 00004: saving model to /home/jovyan/dataset/20epoch/model401_501/401_501.ckpt\n",
      "Epoch 5/5\n",
      "2572/2572 [==============================] - 709s 276ms/step - loss: 0.0871 - accuracy: 0.9758 - auc: 0.9940\n",
      "\n",
      "Epoch 00005: saving model to /home/jovyan/dataset/20epoch/model401_501/401_501.ckpt\n"
     ]
    }
   ],
   "source": [
    "model = DIN(feature_columns, behavior_feature_list)\n",
    "model.compile('SGD', 'binary_crossentropy',metrics=['accuracy','AUC'])\n",
    "latest = tf.train.latest_checkpoint(\"/home/jovyan/dataset/15epoch/model401_501\")\n",
    "model.load_weights(latest)\n",
    "\n",
    "checkpoint_path = \"/home/jovyan/dataset/20epoch/model401_501/401_501.ckpt\"\n",
    "cp_callback = tf.keras.callbacks.ModelCheckpoint(filepath=checkpoint_path, save_weights_only=True,verbose=1)\n",
    "histtory5epoch = model.fit(x, y, batch_size=128, verbose=1, epochs=5, callbacks=[cp_callback])"
   ]
  }
 ],
 "metadata": {
  "kernelspec": {
   "display_name": "Python 3",
   "language": "python",
   "name": "python3"
  },
  "language_info": {
   "codemirror_mode": {
    "name": "ipython",
    "version": 3
   },
   "file_extension": ".py",
   "mimetype": "text/x-python",
   "name": "python",
   "nbconvert_exporter": "python",
   "pygments_lexer": "ipython3",
   "version": "3.7.3"
  }
 },
 "nbformat": 4,
 "nbformat_minor": 2
}
