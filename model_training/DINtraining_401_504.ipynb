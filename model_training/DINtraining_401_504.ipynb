{
 "cells": [
  {
   "cell_type": "code",
   "execution_count": 1,
   "metadata": {},
   "outputs": [],
   "source": [
    "import pandas as pd\n",
    "import pandas_gbq\n",
    "from google.cloud import bigquery\n",
    "from sklearn.metrics import roc_auc_score\n",
    "from deepctr.models import DeepFM,DIN\n",
    "from deepctr.feature_column import SparseFeat, VarLenSparseFeat, DenseFeat, get_feature_names\n",
    "from sklearn.preprocessing import LabelEncoder\n",
    "import numpy as np\n",
    "import tensorflow as tf\n",
    "import random\n",
    "import time\n",
    "import pandas\n",
    "import keras\n",
    "import pickle\n",
    "def save_variable(v,filename):\n",
    "    f=open(filename,'wb')\n",
    "    pickle.dump(v,f)\n",
    "    f.close()\n",
    "    return filename\n",
    "def load_variable(filename):\n",
    "    f=open(filename,'rb')\n",
    "    r=pickle.load(f)\n",
    "    f.close()\n",
    "    return r"
   ]
  },
  {
   "cell_type": "markdown",
   "metadata": {},
   "source": [
    "### start training(use 4/1-5/3 model train5/4 data)¶"
   ]
  },
  {
   "cell_type": "code",
   "execution_count": 32,
   "metadata": {},
   "outputs": [],
   "source": [
    "df_uid_5 = load_variable('/home/jovyan/dataset/may_df_uid')\n",
    "df_ven_guid_5 = load_variable('/home/jovyan/dataset/may_df_ven_guid')\n",
    "df_uid54 = df_uid_5[df_uid_5.month==54]\n",
    "df_ven_guid54 = df_ven_guid_5[df_ven_guid_5.month==54]"
   ]
  },
  {
   "cell_type": "code",
   "execution_count": 40,
   "metadata": {},
   "outputs": [],
   "source": [
    "df_temp = pd.concat([df_uid54[['month','gid_encode']],df_ven_guid54[['month','gid_encode']]],ignore_index=True)\n",
    "under = 0\n",
    "freq_list = []\n",
    "freq = df_temp.gid_encode.value_counts()\n",
    "for i in freq.values:\n",
    "    under += np.log10(i+1)\n",
    "for i in freq.values:\n",
    "    freq_list.append(np.log10(i+1)/under)"
   ]
  },
  {
   "cell_type": "code",
   "execution_count": 42,
   "metadata": {},
   "outputs": [],
   "source": [
    "def create_train_set(df,bywhich):\n",
    "    t_set = []\n",
    "    neg_list = random.choices(freq.index,weights = freq_list, k=1000000)\n",
    "    for userid, hist in df.groupby(bywhich):\n",
    "        pos_list = hist['gid_encode'].tolist()\n",
    "        if len(pos_list) > 101:\n",
    "            pos_list = pos_list[-101:]\n",
    "        def gen_neg():\n",
    "            count = 0\n",
    "            neg = pos_list[0]\n",
    "            while neg in pos_list:\n",
    "                if count == 100:\n",
    "                    count = 0\n",
    "                neg = random.choices(neg_list, k=1)[0]\n",
    "                count += 1\n",
    "            return neg\n",
    "        neg_list2 = [gen_neg() for i in range(len(pos_list))]\n",
    "        for i in range(1, len(pos_list)):\n",
    "            hist = pos_list[:i] \n",
    "            t_set.append((userid, hist, pos_list[i], 1))\n",
    "            t_set.append((userid, hist, neg_list2[i], 0))\n",
    "    return t_set\n",
    "uid_train_set = create_train_set(df_uid54,'uid')\n",
    "ven_guid_train_set = create_train_set(df_ven_guid54,'ven_guid')"
   ]
  },
  {
   "cell_type": "code",
   "execution_count": 43,
   "metadata": {},
   "outputs": [
    {
     "data": {
      "text/plain": [
       "(186026, 207944, 393970)"
      ]
     },
     "execution_count": 43,
     "metadata": {},
     "output_type": "execute_result"
    }
   ],
   "source": [
    "train_set = uid_train_set+ven_guid_train_set\n",
    "np.random.shuffle(train_set)\n",
    "len(uid_train_set),len(ven_guid_train_set),len(train_set)"
   ]
  },
  {
   "cell_type": "code",
   "execution_count": 44,
   "metadata": {},
   "outputs": [],
   "source": [
    "def create_train_array(data):\n",
    "    g_id = []\n",
    "    hist_g_id = []\n",
    "    click = []\n",
    "    seq_length = []\n",
    "\n",
    "    for index, value in enumerate(data):\n",
    "        hist_g_id.append(value[1])\n",
    "        seq_length.append(len(value[1]))\n",
    "        g_id.append(value[2])\n",
    "        click.append(value[3])  \n",
    "    for i in range(len(hist_g_id)):\n",
    "        if len(hist_g_id[i]) != 100:\n",
    "            hist_g_id[i] += (100-len(hist_g_id[i]))*[0]\n",
    "\n",
    "    g_id = np.array(g_id)\n",
    "    hist_g_id = np.array(hist_g_id)\n",
    "    click = np.array(click)\n",
    "    seq_length = np.array(seq_length)\n",
    "    return g_id, hist_g_id, click, seq_length\n",
    "g_id_train, hist_g_id_train, click_train, seq_length_train = create_train_array(train_set)"
   ]
  },
  {
   "cell_type": "code",
   "execution_count": 154,
   "metadata": {},
   "outputs": [],
   "source": [
    "behavior_feature_list = [\"g_id\"]\n",
    "feature_columns = [SparseFeat('g_id', 1870599, embedding_dim=8)]\n",
    "feature_columns += [VarLenSparseFeat(SparseFeat('hist_g_id',vocabulary_size=1870599, embedding_dim=8, embedding_name='g_id'), maxlen = 100, length_name='seq_le\n",
    "                                     \n",
    "x_train = {'g_id': g_id_train, \n",
    "        'hist_g_id': hist_g_id_train, \n",
    "        'seq_length': seq_length_train}\n",
    "y_train = click_train"
   ]
  },
  {
   "cell_type": "code",
   "execution_count": 157,
   "metadata": {},
   "outputs": [
    {
     "name": "stdout",
     "output_type": "stream",
     "text": [
      "Epoch 1/10\n",
      "3078/3078 [==============================] - 718s 228ms/step - loss: 0.5538 - accuracy: 0.7130 - auc: 0.7877\n",
      "\n",
      "Epoch 00001: saving model to /home/jovyan/dataset/checkpoint_folder/model_401_504/rakuten_0401_0504.ckpt\n",
      "Epoch 2/10\n",
      "3078/3078 [==============================] - 763s 248ms/step - loss: 0.4805 - accuracy: 0.7691 - auc: 0.8479\n",
      "\n",
      "Epoch 00002: saving model to /home/jovyan/dataset/checkpoint_folder/model_401_504/rakuten_0401_0504.ckpt\n",
      "Epoch 3/10\n",
      "3078/3078 [==============================] - 816s 265ms/step - loss: 0.4118 - accuracy: 0.8152 - auc: 0.8915\n",
      "\n",
      "Epoch 00003: saving model to /home/jovyan/dataset/checkpoint_folder/model_401_504/rakuten_0401_0504.ckpt\n",
      "Epoch 4/10\n",
      "3078/3078 [==============================] - 814s 264ms/step - loss: 0.3488 - accuracy: 0.8531 - auc: 0.9231\n",
      "\n",
      "Epoch 00004: saving model to /home/jovyan/dataset/checkpoint_folder/model_401_504/rakuten_0401_0504.ckpt\n",
      "Epoch 5/10\n",
      "3078/3078 [==============================] - 777s 252ms/step - loss: 0.2964 - accuracy: 0.8813 - auc: 0.9448\n",
      "\n",
      "Epoch 00005: saving model to /home/jovyan/dataset/checkpoint_folder/model_401_504/rakuten_0401_0504.ckpt\n",
      "Epoch 6/10\n",
      "3078/3078 [==============================] - 804s 261ms/step - loss: 0.2555 - accuracy: 0.9018 - auc: 0.9591\n",
      "\n",
      "Epoch 00006: saving model to /home/jovyan/dataset/checkpoint_folder/model_401_504/rakuten_0401_0504.ckpt\n",
      "Epoch 7/10\n",
      "3078/3078 [==============================] - 869s 282ms/step - loss: 0.2207 - accuracy: 0.9187 - auc: 0.9694\n",
      "\n",
      "Epoch 00007: saving model to /home/jovyan/dataset/checkpoint_folder/model_401_504/rakuten_0401_0504.ckpt\n",
      "Epoch 8/10\n",
      "3078/3078 [==============================] - 827s 269ms/step - loss: 0.1930 - accuracy: 0.9313 - auc: 0.9766\n",
      "\n",
      "Epoch 00008: saving model to /home/jovyan/dataset/checkpoint_folder/model_401_504/rakuten_0401_0504.ckpt\n",
      "Epoch 9/10\n",
      "3078/3078 [==============================] - 776s 252ms/step - loss: 0.1768 - accuracy: 0.9390 - auc: 0.9802\n",
      "\n",
      "Epoch 00009: saving model to /home/jovyan/dataset/checkpoint_folder/model_401_504/rakuten_0401_0504.ckpt\n",
      "Epoch 10/10\n",
      "3078/3078 [==============================] - 724s 235ms/step - loss: 0.1584 - accuracy: 0.9465 - auc: 0.9839\n",
      "\n",
      "Epoch 00010: saving model to /home/jovyan/dataset/checkpoint_folder/model_401_504/rakuten_0401_0504.ckpt\n"
     ]
    }
   ],
   "source": [
    "model = DIN(feature_columns, behavior_feature_list)\n",
    "model.compile('SGD', 'binary_crossentropy',metrics=['accuracy','AUC'])\n",
    "latest = tf.train.latest_checkpoint(\"/home/jovyan/dataset/checkpoint_folder/model_401_503\")\n",
    "model.load_weights(latest)\n",
    "\n",
    "checkpoint_path = \"/home/jovyan/dataset/checkpoint_folder/model_401_504/rakuten_0401_0504.ckpt\"\n",
    "cp_callback = tf.keras.callbacks.ModelCheckpoint(filepath=checkpoint_path, save_weights_only=True,verbose=1)\n",
    "history401_504 = model.fit(x_train, y_train, batch_size=128, verbose=1, epochs=10, callbacks=[cp_callback])"
   ]
  },
  {
   "cell_type": "markdown",
   "metadata": {},
   "source": [
    "### 15個epoch"
   ]
  },
  {
   "cell_type": "code",
   "execution_count": 46,
   "metadata": {},
   "outputs": [],
   "source": [
    "behavior_feature_list = [\"g_id\"]\n",
    "feature_columns = [SparseFeat('g_id', 1870599, embedding_dim=8)]\n",
    "feature_columns += [VarLenSparseFeat(SparseFeat('hist_g_id',vocabulary_size=1870599, embedding_dim=8, embedding_name='g_id'), maxlen = 100, length_name='seq_length')]\n",
    "x = {'g_id': g_id_train, \n",
    "        'hist_g_id': hist_g_id_train, \n",
    "        'seq_length': seq_length_train}\n",
    "y = click_train"
   ]
  },
  {
   "cell_type": "code",
   "execution_count": 52,
   "metadata": {},
   "outputs": [
    {
     "name": "stdout",
     "output_type": "stream",
     "text": [
      "Epoch 1/5\n",
      "3078/3078 [==============================] - 509s 164ms/step - loss: 0.3583 - accuracy: 0.8534 - auc: 0.9213\n",
      "\n",
      "Epoch 00001: saving model to /home/jovyan/dataset/15epoch/401_504.ckpt\n",
      "Epoch 2/5\n",
      "3078/3078 [==============================] - 525s 171ms/step - loss: 0.2648 - accuracy: 0.8993 - auc: 0.9572\n",
      "\n",
      "Epoch 00002: saving model to /home/jovyan/dataset/15epoch/401_504.ckpt\n",
      "Epoch 3/5\n",
      "3078/3078 [==============================] - 530s 172ms/step - loss: 0.2113 - accuracy: 0.9241 - auc: 0.9726\n",
      "\n",
      "Epoch 00003: saving model to /home/jovyan/dataset/15epoch/401_504.ckpt\n",
      "Epoch 4/5\n",
      "3078/3078 [==============================] - 526s 171ms/step - loss: 0.1799 - accuracy: 0.9383 - auc: 0.9799\n",
      "\n",
      "Epoch 00004: saving model to /home/jovyan/dataset/15epoch/401_504.ckpt\n",
      "Epoch 5/5\n",
      "3078/3078 [==============================] - 530s 172ms/step - loss: 0.1595 - accuracy: 0.9473 - auc: 0.9838\n",
      "\n",
      "Epoch 00005: saving model to /home/jovyan/dataset/15epoch/401_504.ckpt\n"
     ]
    }
   ],
   "source": [
    "model = DIN(feature_columns, behavior_feature_list)\n",
    "model.compile('SGD', 'binary_crossentropy',metrics=['accuracy','AUC'])\n",
    "latest = tf.train.latest_checkpoint(\"/home/jovyan/dataset/checkpoint_folder/model_401_504\")\n",
    "model.load_weights(latest)\n",
    "\n",
    "checkpoint_path = \"/home/jovyan/dataset/15epoch/401_504.ckpt\"\n",
    "cp_callback = tf.keras.callbacks.ModelCheckpoint(filepath=checkpoint_path, save_weights_only=True,verbose=1)\n",
    "histtory15epoch = model.fit(x, y, batch_size=128, verbose=1, epochs=5, callbacks=[cp_callback])"
   ]
  },
  {
   "cell_type": "markdown",
   "metadata": {},
   "source": [
    "### 20 epoch"
   ]
  },
  {
   "cell_type": "code",
   "execution_count": 54,
   "metadata": {},
   "outputs": [
    {
     "name": "stdout",
     "output_type": "stream",
     "text": [
      "WARNING:tensorflow:Unresolved object in checkpoint: (root).optimizer.iter\n",
      "WARNING:tensorflow:Unresolved object in checkpoint: (root).optimizer.decay\n",
      "WARNING:tensorflow:Unresolved object in checkpoint: (root).optimizer.learning_rate\n",
      "WARNING:tensorflow:Unresolved object in checkpoint: (root).optimizer.momentum\n",
      "WARNING:tensorflow:A checkpoint was restored (e.g. tf.train.Checkpoint.restore or tf.keras.Model.load_weights) but not all checkpointed values were used. See above for specific issues. Use expect_partial() on the load status object, e.g. tf.train.Checkpoint.restore(...).expect_partial(), to silence these warnings, or use assert_consumed() to make the check explicit. See https://www.tensorflow.org/guide/checkpoint#loading_mechanics for details.\n",
      "Epoch 1/5\n",
      "3078/3078 [==============================] - 865s 280ms/step - loss: 0.1425 - accuracy: 0.9540 - auc: 0.9869\n",
      "\n",
      "Epoch 00001: saving model to /home/jovyan/dataset/20epoch/model401_504/401_504.ckpt\n",
      "Epoch 2/5\n",
      "3078/3078 [==============================] - 843s 274ms/step - loss: 0.1255 - accuracy: 0.9609 - auc: 0.9895\n",
      "\n",
      "Epoch 00002: saving model to /home/jovyan/dataset/20epoch/model401_504/401_504.ckpt\n",
      "Epoch 3/5\n",
      "3078/3078 [==============================] - 844s 274ms/step - loss: 0.1154 - accuracy: 0.9651 - auc: 0.9908\n",
      "\n",
      "Epoch 00003: saving model to /home/jovyan/dataset/20epoch/model401_504/401_504.ckpt\n",
      "Epoch 4/5\n",
      "3078/3078 [==============================] - 845s 275ms/step - loss: 0.1039 - accuracy: 0.9692 - auc: 0.9923\n",
      "\n",
      "Epoch 00004: saving model to /home/jovyan/dataset/20epoch/model401_504/401_504.ckpt\n",
      "Epoch 5/5\n",
      "3078/3078 [==============================] - 776s 252ms/step - loss: 0.0993 - accuracy: 0.9713 - auc: 0.9928\n",
      "\n",
      "Epoch 00005: saving model to /home/jovyan/dataset/20epoch/model401_504/401_504.ckpt\n"
     ]
    }
   ],
   "source": [
    "model = DIN(feature_columns, behavior_feature_list)\n",
    "model.compile('SGD', 'binary_crossentropy',metrics=['accuracy','AUC'])\n",
    "latest = tf.train.latest_checkpoint(\"/home/jovyan/dataset/15epoch/model401_504\")\n",
    "model.load_weights(latest)\n",
    "checkpoint_path = \"/home/jovyan/dataset/20epoch/model401_504/401_504.ckpt\"\n",
    "cp_callback = tf.keras.callbacks.ModelCheckpoint(filepath=checkpoint_path, save_weights_only=True,verbose=1)\n",
    "histtory5epoch = model.fit(x_train, y_train, batch_size=128, verbose=1, epochs=5, callbacks=[cp_callback])"
   ]
  }
 ],
 "metadata": {
  "kernelspec": {
   "display_name": "Python 3",
   "language": "python",
   "name": "python3"
  },
  "language_info": {
   "codemirror_mode": {
    "name": "ipython",
    "version": 3
   },
   "file_extension": ".py",
   "mimetype": "text/x-python",
   "name": "python",
   "nbconvert_exporter": "python",
   "pygments_lexer": "ipython3",
   "version": "3.7.3"
  }
 },
 "nbformat": 4,
 "nbformat_minor": 2
}
