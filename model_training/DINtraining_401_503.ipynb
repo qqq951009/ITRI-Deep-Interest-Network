{
 "cells": [
  {
   "cell_type": "code",
   "execution_count": 107,
   "metadata": {},
   "outputs": [],
   "source": [
    "import pandas as pd\n",
    "import pandas_gbq\n",
    "from google.cloud import bigquery\n",
    "import pandas as pd\n",
    "from sklearn.metrics import mean_squared_error\n",
    "from sklearn.model_selection import train_test_split\n",
    "from sklearn.preprocessing import LabelEncoder\n",
    "from sklearn.metrics import roc_auc_score\n",
    "from deepctr.models import DeepFM,DIN\n",
    "from deepctr.feature_column import SparseFeat, VarLenSparseFeat, DenseFeat, get_feature_names\n",
    "import numpy as np\n",
    "import tensorflow as tf\n",
    "import random\n",
    "import pickle\n",
    "def save_variable(v,filename):\n",
    "    f=open(filename,'wb')\n",
    "    pickle.dump(v,f)\n",
    "    f.close()\n",
    "    return filename\n",
    "def load_variable(filename):\n",
    "    f=open(filename,'rb')\n",
    "    r=pickle.load(f)\n",
    "    f.close()\n",
    "    return r\n",
    "gid_dict = load_variable('/home/jovyan/dataset/gid_dict')#所有gid對應編號的dict\n",
    "df503 = load_variable('/home/jovyan/dataset/original_candidate_itemset/0503_candidate_itemset')#舊方法的candidate_itemset\n"
   ]
  },
  {
   "cell_type": "markdown",
   "metadata": {},
   "source": [
    "### start training(use 4/1-5/2 model train5/3 data)"
   ]
  },
  {
   "cell_type": "code",
   "execution_count": 42,
   "metadata": {},
   "outputs": [],
   "source": [
    "df_uid_5 = load_variable('/home/jovyan/dataset/may_df_uid')\n",
    "df_ven_guid_5 = load_variable('/home/jovyan/dataset/may_df_ven_guid')\n",
    "df_uid53 = df_uid_5[df_uid_5.month==53]\n",
    "df_ven_guid53 = df_ven_guid_5[df_ven_guid_5.month==53]"
   ]
  },
  {
   "cell_type": "code",
   "execution_count": 43,
   "metadata": {},
   "outputs": [],
   "source": [
    "df_temp = pd.concat([df_uid53[['month','gid_encode']],df_ven_guid53[['month','gid_encode']]],ignore_index=True)  \n",
    "under = 0\n",
    "freq_list = []\n",
    "freq = df_temp.gid_encode.value_counts()\n",
    "for i in freq.values:\n",
    "    under += np.log10(i+1)\n",
    "for i in freq.values:\n",
    "    freq_list.append(np.log10(i+1)/under)"
   ]
  },
  {
   "cell_type": "code",
   "execution_count": 44,
   "metadata": {
    "collapsed": true
   },
   "outputs": [
    {
     "name": "stdout",
     "output_type": "stream",
     "text": [
      "12765\n",
      "13708\n",
      "15577\n",
      "33136\n",
      "38560\n",
      "39859\n",
      "42462\n",
      "46878\n",
      "47911\n",
      "50237\n",
      "54573\n",
      "59573\n",
      "61991\n",
      "63463\n",
      "68141\n",
      "73091\n",
      "79456\n",
      "79880\n",
      "82133\n",
      "84280\n",
      "89271\n",
      "99483\n",
      "103277\n",
      "121446\n",
      "125908\n",
      "208203\n",
      "351989\n",
      "426698\n",
      "574791\n",
      "647826\n"
     ]
    }
   ],
   "source": [
    "import random\n",
    "def create_train_set(df,bywhich):\n",
    "    t_set = []\n",
    "    neg_list = random.choices(freq.index,weights = freq_list, k=1000000)\n",
    "    for userid, hist in df.groupby(bywhich):\n",
    "        pos_list = hist['gid_encode'].tolist()\n",
    "        if len(pos_list) > 101:\n",
    "            pos_list = pos_list[-101:]\n",
    "            print(userid)\n",
    "        def gen_neg():\n",
    "            count = 0\n",
    "            neg = pos_list[0]\n",
    "            while neg in pos_list:\n",
    "                if count == 100:\n",
    "                    count = 0\n",
    "                neg = random.choices(neg_list, k=1)[0]\n",
    "                count += 1\n",
    "            return neg\n",
    "        neg_list2 = [gen_neg() for i in range(len(pos_list))]\n",
    "        for i in range(1, len(pos_list)):\n",
    "            hist = pos_list[:i] \n",
    "            t_set.append((userid, hist, pos_list[i], 1))\n",
    "            t_set.append((userid, hist, neg_list2[i], 0))\n",
    "    return t_set\n",
    "uid_set = create_train_set(df_uid53,'uid')\n",
    "ven_guid_set = create_train_set(df_ven_guid53,'ven_guid')"
   ]
  },
  {
   "cell_type": "code",
   "execution_count": 45,
   "metadata": {},
   "outputs": [
    {
     "data": {
      "text/plain": [
       "(198754, 221184)"
      ]
     },
     "execution_count": 45,
     "metadata": {},
     "output_type": "execute_result"
    }
   ],
   "source": [
    "train_set503 = uid_set+ven_guid_set\n",
    "np.random.shuffle(train_set503)\n",
    "len(uid_set),len(ven_guid_set)"
   ]
  },
  {
   "cell_type": "code",
   "execution_count": 46,
   "metadata": {},
   "outputs": [],
   "source": [
    "def create_array(data):\n",
    "    g_id = []\n",
    "    hist_g_id = []\n",
    "    click = []\n",
    "    seq_length = []\n",
    "\n",
    "    for index, value in enumerate(data):\n",
    "        hist_g_id.append(value[1])\n",
    "        seq_length.append(len(value[1]))\n",
    "        g_id.append(value[2])\n",
    "        click.append(value[3])  \n",
    "    for i in range(len(hist_g_id)):\n",
    "        if len(hist_g_id[i]) != 100:\n",
    "            hist_g_id[i] += (100-len(hist_g_id[i]))*[0]\n",
    "\n",
    "    g_id = np.array(g_id)\n",
    "    hist_g_id = np.array(hist_g_id)\n",
    "    click = np.array(click)\n",
    "    seq_length = np.array(seq_length)\n",
    "    return g_id, hist_g_id, click, seq_length\n",
    "g_id_train503, hist_g_id_train503, click_train503, seq_length_train503 = create_array(train_set503)"
   ]
  },
  {
   "cell_type": "code",
   "execution_count": 49,
   "metadata": {},
   "outputs": [],
   "source": [
    "behavior_feature_list = [\"g_id\"]\n",
    "feature_columns = [SparseFeat('g_id', 1870599, embedding_dim=8)]\n",
    "feature_columns += [VarLenSparseFeat(SparseFeat('hist_g_id',vocabulary_size=1870599, embedding_dim=8, embedding_name='g_id'), maxlen = 100, length_name='seq_length')]\n",
    "\n",
    "x = {'g_id': g_id_train503, \n",
    "    'hist_g_id': hist_g_id_train503, \n",
    "    'seq_length': seq_length_train503}\n",
    "y = click_train503"
   ]
  },
  {
   "cell_type": "code",
   "execution_count": 40,
   "metadata": {},
   "outputs": [
    {
     "name": "stdout",
     "output_type": "stream",
     "text": [
      "Epoch 1/10\n",
      "3281/3281 [==============================] - 875s 266ms/step - loss: 0.5653 - accuracy: 0.7094 - auc: 0.7806\n",
      "\n",
      "Epoch 00001: saving model to /home/jovyan/dataset/checkpoint_folder/model_401_503/rakuten_0401_0503.ckpt\n",
      "Epoch 2/10\n",
      "3281/3281 [==============================] - 878s 268ms/step - loss: 0.4733 - accuracy: 0.7750 - auc: 0.8537\n",
      "\n",
      "Epoch 00002: saving model to /home/jovyan/dataset/checkpoint_folder/model_401_503/rakuten_0401_0503.ckpt\n",
      "Epoch 3/10\n",
      "3281/3281 [==============================] - 859s 262ms/step - loss: 0.3947 - accuracy: 0.8257 - auc: 0.9013\n",
      "\n",
      "Epoch 00003: saving model to /home/jovyan/dataset/checkpoint_folder/model_401_503/rakuten_0401_0503.ckpt\n",
      "Epoch 4/10\n",
      "3281/3281 [==============================] - 851s 259ms/step - loss: 0.3255 - accuracy: 0.8652 - auc: 0.9335\n",
      "\n",
      "Epoch 00004: saving model to /home/jovyan/dataset/checkpoint_folder/model_401_503/rakuten_0401_0503.ckpt\n",
      "Epoch 5/10\n",
      "3281/3281 [==============================] - 911s 278ms/step - loss: 0.2759 - accuracy: 0.8916 - auc: 0.9523\n",
      "\n",
      "Epoch 00005: saving model to /home/jovyan/dataset/checkpoint_folder/model_401_503/rakuten_0401_0503.ckpt\n",
      "Epoch 6/10\n",
      "3281/3281 [==============================] - 908s 277ms/step - loss: 0.2377 - accuracy: 0.9103 - auc: 0.9646\n",
      "\n",
      "Epoch 00006: saving model to /home/jovyan/dataset/checkpoint_folder/model_401_503/rakuten_0401_0503.ckpt\n",
      "Epoch 7/10\n",
      "3281/3281 [==============================] - 903s 275ms/step - loss: 0.2098 - accuracy: 0.9238 - auc: 0.9723\n",
      "\n",
      "Epoch 00007: saving model to /home/jovyan/dataset/checkpoint_folder/model_401_503/rakuten_0401_0503.ckpt\n",
      "Epoch 8/10\n",
      "3281/3281 [==============================] - 870s 265ms/step - loss: 0.1863 - accuracy: 0.9347 - auc: 0.9779\n",
      "\n",
      "Epoch 00008: saving model to /home/jovyan/dataset/checkpoint_folder/model_401_503/rakuten_0401_0503.ckpt\n",
      "Epoch 9/10\n",
      "3281/3281 [==============================] - 849s 259ms/step - loss: 0.3199 - accuracy: 0.8578 - auc: 0.9386\n",
      "\n",
      "Epoch 00009: saving model to /home/jovyan/dataset/checkpoint_folder/model_401_503/rakuten_0401_0503.ckpt\n",
      "Epoch 10/10\n",
      "3281/3281 [==============================] - 885s 270ms/step - loss: 0.3362 - accuracy: 0.8657 - auc: 0.9331\n",
      "\n",
      "Epoch 00010: saving model to /home/jovyan/dataset/checkpoint_folder/model_401_503/rakuten_0401_0503.ckpt\n"
     ]
    }
   ],
   "source": [
    "model = DIN(feature_columns, behavior_feature_list)\n",
    "model.compile('SGD', 'binary_crossentropy',metrics=['accuracy','AUC'])\n",
    "latest = tf.train.latest_checkpoint(\"/home/jovyan/dataset/checkpoint_folder/model_401_502\")\n",
    "model.load_weights(latest)\n",
    "\n",
    "checkpoint_path = \"/home/jovyan/dataset/checkpoint_folder/model_401_503/rakuten_0401_0503.ckpt\"\n",
    "cp_callback = tf.keras.callbacks.ModelCheckpoint(filepath=checkpoint_path, save_weights_only=True,verbose=1)\n",
    "history401_503 = model.fit(x, y, batch_size=128, verbose=1, epochs=10, callbacks=[cp_callback])"
   ]
  },
  {
   "cell_type": "markdown",
   "metadata": {},
   "source": [
    "### 15個epoch"
   ]
  },
  {
   "cell_type": "code",
   "execution_count": 50,
   "metadata": {},
   "outputs": [
    {
     "name": "stdout",
     "output_type": "stream",
     "text": [
      "Epoch 1/5\n",
      "3281/3281 [==============================] - 948s 281ms/step - loss: 0.3979 - accuracy: 0.8310 - auc: 0.9032\n",
      "\n",
      "Epoch 00001: saving model to /home/jovyan/dataset/15epoch/model401_503/401_503.ckpt\n",
      "Epoch 2/5\n",
      "3281/3281 [==============================] - 930s 283ms/step - loss: 0.3076 - accuracy: 0.8777 - auc: 0.9432\n",
      "\n",
      "Epoch 00002: saving model to /home/jovyan/dataset/15epoch/model401_503/401_503.ckpt\n",
      "Epoch 3/5\n",
      "3281/3281 [==============================] - 960s 293ms/step - loss: 0.2468 - accuracy: 0.9081 - auc: 0.9635\n",
      "\n",
      "Epoch 00003: saving model to /home/jovyan/dataset/15epoch/model401_503/401_503.ckpt\n",
      "Epoch 4/5\n",
      "3281/3281 [==============================] - 915s 279ms/step - loss: 0.2012 - accuracy: 0.9280 - auc: 0.9754\n",
      "\n",
      "Epoch 00004: saving model to /home/jovyan/dataset/15epoch/model401_503/401_503.ckpt\n",
      "Epoch 5/5\n",
      "3281/3281 [==============================] - 859s 262ms/step - loss: 0.1677 - accuracy: 0.9425 - auc: 0.9824\n",
      "\n",
      "Epoch 00005: saving model to /home/jovyan/dataset/15epoch/model401_503/401_503.ckpt\n"
     ]
    }
   ],
   "source": [
    "model = DIN(feature_columns, behavior_feature_list)\n",
    "model.compile('SGD', 'binary_crossentropy',metrics=['accuracy','AUC'])\n",
    "latest = tf.train.latest_checkpoint(\"/home/jovyan/dataset/checkpoint_folder/model_401_503\")\n",
    "model.load_weights(latest)\n",
    "\n",
    "checkpoint_path =  \"/home/jovyan/dataset/15epoch/model401_503/401_503.ckpt\"\n",
    "cp_callback = tf.keras.callbacks.ModelCheckpoint(filepath=checkpoint_path, save_weights_only=True,verbose=1)\n",
    "history15epoch = model.fit(x, y, batch_size=128, verbose=1, epochs=5, callbacks=[cp_callback])"
   ]
  },
  {
   "cell_type": "markdown",
   "metadata": {},
   "source": [
    "### 20 epoch"
   ]
  },
  {
   "cell_type": "code",
   "execution_count": 52,
   "metadata": {
    "scrolled": false
   },
   "outputs": [
    {
     "name": "stdout",
     "output_type": "stream",
     "text": [
      "Epoch 1/5\n",
      "3281/3281 [==============================] - 920s 279ms/step - loss: 0.1435 - accuracy: 0.9526 - auc: 0.9869\n",
      "\n",
      "Epoch 00001: saving model to /home/jovyan/dataset/20epoch/model401_503/401_503.ckpt\n",
      "Epoch 2/5\n",
      "3281/3281 [==============================] - 918s 280ms/step - loss: 0.1275 - accuracy: 0.9597 - auc: 0.9892\n",
      "\n",
      "Epoch 00002: saving model to /home/jovyan/dataset/20epoch/model401_503/401_503.ckpt\n",
      "Epoch 3/5\n",
      "3281/3281 [==============================] - 921s 281ms/step - loss: 0.1159 - accuracy: 0.9643 - auc: 0.9908\n",
      "\n",
      "Epoch 00003: saving model to /home/jovyan/dataset/20epoch/model401_503/401_503.ckpt\n",
      "Epoch 4/5\n",
      "3281/3281 [==============================] - 887s 270ms/step - loss: 0.1041 - accuracy: 0.9689 - auc: 0.9923\n",
      "\n",
      "Epoch 00004: saving model to /home/jovyan/dataset/20epoch/model401_503/401_503.ckpt\n",
      "Epoch 5/5\n",
      "3281/3281 [==============================] - 825s 252ms/step - loss: 0.0966 - accuracy: 0.9721 - auc: 0.9931\n",
      "\n",
      "Epoch 00005: saving model to /home/jovyan/dataset/20epoch/model401_503/401_503.ckpt\n"
     ]
    }
   ],
   "source": [
    "model = DIN(feature_columns, behavior_feature_list)\n",
    "model.compile('SGD', 'binary_crossentropy',metrics=['accuracy','AUC'])\n",
    "latest = tf.train.latest_checkpoint(\"/home/jovyan/dataset/15epoch/model401_503\")\n",
    "model.load_weights(latest)\n",
    "checkpoint_path = \"/home/jovyan/dataset/20epoch/model401_503/401_503.ckpt\"\n",
    "cp_callback = tf.keras.callbacks.ModelCheckpoint(filepath=checkpoint_path, save_weights_only=True,verbose=1)\n",
    "histtory5epoch = model.fit(x, y, batch_size=128, verbose=1, epochs=5, callbacks=[cp_callback])"
   ]
  },
  {
   "cell_type": "markdown",
   "metadata": {},
   "source": [
    "### make request"
   ]
  },
  {
   "cell_type": "code",
   "execution_count": null,
   "metadata": {},
   "outputs": [],
   "source": [
    "def clean_candidate(df):#舊方法刪完後的結果(不存在就刪掉)\n",
    "    df = df[df['gid'].isin(list(gid_dict.keys()))]\n",
    "    df = df.reset_index(drop=True)\n",
    "    df.candidate_items = df.candidate_items.apply(lambda x:x.split(','))\n",
    "    df = df.explode('candidate_items', ignore_index=True)\n",
    "    df = df[df['candidate_items'].isin(list(gid_dict.keys()))]#推薦清單 candidate_item清掉不在4/1-5/5的商品\n",
    "    df.gid = df.gid.apply(lambda x:gid_dict[x])\n",
    "    df.candidate_items = df.candidate_items.apply(lambda x:gid_dict[x])\n",
    "    df = df.groupby(['gid']).agg({'candidate_items': lambda x: x.tolist()})\n",
    "    df = df.reset_index()\n",
    "    return df\n",
    "df_candidate = clean_candidate(df503)"
   ]
  },
  {
   "cell_type": "code",
   "execution_count": null,
   "metadata": {},
   "outputs": [],
   "source": [
    "import requests\n",
    "import json\n",
    "API_ENDPOINT = \"http://localhost:5000/\"\n",
    "x_request = {\n",
    "            'hist_g_id':hist_g_id_train503[:1].tolist()[0],\n",
    "            'candidate':df_candidate[df_candidate.gid == 751602]['candidate_items'].tolist()[0],\n",
    "            'seq_length':seq_length_train503.tolist()[0]\n",
    "            }\n",
    "r = requests.post(url=API_ENDPOINT, json=x_request)\n",
    "print(r.text)\n",
    "#r = r.json()\n",
    "#print(r['rerank'])"
   ]
  },
  {
   "cell_type": "code",
   "execution_count": 117,
   "metadata": {},
   "outputs": [
    {
     "name": "stdout",
     "output_type": "stream",
     "text": [
      "hist_g_id [1315304, 0, 0, 0, 0, 0, 0, 0, 0, 0, 0, 0, 0, 0, 0, 0, 0, 0, 0, 0, 0, 0, 0, 0, 0, 0, 0, 0, 0, 0, 0, 0, 0, 0, 0, 0, 0, 0, 0, 0, 0, 0, 0, 0, 0, 0, 0, 0, 0, 0, 0, 0, 0, 0, 0, 0, 0, 0, 0, 0, 0, 0, 0, 0, 0, 0, 0, 0, 0, 0, 0, 0, 0, 0, 0, 0, 0, 0, 0, 0, 0, 0, 0, 0, 0, 0, 0, 0, 0, 0, 0, 0, 0, 0, 0, 0, 0, 0, 0, 0]\n",
      "candidate [1046873, 798421, 990655, 226697, 23467, 1333060, 1030811, 94341, 1539411, 1534230, 757623, 1519174, 1839503, 898817, 223846, 1598160, 555647, 1846256, 232675, 1264920, 686272, 786385, 1028995, 1313552, 1076777, 1029365, 368416, 531902, 1326280, 436448]\n",
      "seq_length 1\n"
     ]
    }
   ],
   "source": [
    "for i,v in x_request.items():\n",
    "    print(i,v)"
   ]
  }
 ],
 "metadata": {
  "kernelspec": {
   "display_name": "Python 3",
   "language": "python",
   "name": "python3"
  },
  "language_info": {
   "codemirror_mode": {
    "name": "ipython",
    "version": 3
   },
   "file_extension": ".py",
   "mimetype": "text/x-python",
   "name": "python",
   "nbconvert_exporter": "python",
   "pygments_lexer": "ipython3",
   "version": "3.7.3"
  }
 },
 "nbformat": 4,
 "nbformat_minor": 2
}
